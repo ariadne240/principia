{
  "nbformat": 4,
  "nbformat_minor": 0,
  "metadata": {
    "colab": {
      "name": "A Colab Example.ipynb",
      "provenance": [],
      "collapsed_sections": [],
      "authorship_tag": "ABX9TyPnSxpD8p2eolEYXF9S18oG",
      "include_colab_link": true
    },
    "kernelspec": {
      "name": "python3",
      "display_name": "Python 3"
    },
    "language_info": {
      "name": "python"
    }
  },
  "cells": [
    {
      "cell_type": "markdown",
      "metadata": {
        "id": "view-in-github",
        "colab_type": "text"
      },
      "source": [
        "<a href=\"https://colab.research.google.com/github/ariadne240/principia/blob/main/A_Colab_Example.ipynb\" target=\"_parent\"><img src=\"https://colab.research.google.com/assets/colab-badge.svg\" alt=\"Open In Colab\"/></a>"
      ]
    },
    {
      "cell_type": "markdown",
      "metadata": {
        "id": "QYxx-PtAMi6m"
      },
      "source": [
        "#Et Compages ex Fantasy"
      ]
    },
    {
      "cell_type": "markdown",
      "metadata": {
        "id": "xisbvRjgMqqm"
      },
      "source": [
        "##ariadne240"
      ]
    },
    {
      "cell_type": "markdown",
      "metadata": {
        "id": "42C2UzonMxt1"
      },
      "source": [
        "> The most basic system underneath is the logic. Logical system should not be too plain or too complex."
      ]
    },
    {
      "cell_type": "code",
      "metadata": {
        "id": "WM1WOLqaJsH4"
      },
      "source": [
        "A Colab Example"
      ],
      "execution_count": null,
      "outputs": []
    },
    {
      "cell_type": "code",
      "metadata": {
        "id": "AmGd48zWLv7n"
      },
      "source": [
        "New Colab Code"
      ],
      "execution_count": null,
      "outputs": []
    },
    {
      "cell_type": "markdown",
      "metadata": {
        "id": "uMIdg5AJLz5I"
      },
      "source": [
        "New Colab"
      ]
    }
  ]
}