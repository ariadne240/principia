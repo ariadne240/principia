{
 "cells": [
  {
   "cell_type": "markdown",
   "id": "e1b09bf6",
   "metadata": {},
   "source": [
    "# Et Compages ex Fantasy\n",
    "## ariadne240"
   ]
  },
  {
   "cell_type": "markdown",
   "id": "fb4ab24b",
   "metadata": {},
   "source": [
    "> The most basic system underneath is the logic. Logical system should not be too plain or too complex."
   ]
  },
  {
   "cell_type": "code",
   "execution_count": null,
   "id": "0b1bd0b1",
   "metadata": {},
   "outputs": [],
   "source": []
  }
 ],
 "metadata": {
  "kernelspec": {
   "display_name": "Python 3",
   "language": "python",
   "name": "python3"
  },
  "language_info": {
   "codemirror_mode": {
    "name": "ipython",
    "version": 3
   },
   "file_extension": ".py",
   "mimetype": "text/x-python",
   "name": "python",
   "nbconvert_exporter": "python",
   "pygments_lexer": "ipython3",
   "version": "3.9.6"
  }
 },
 "nbformat": 4,
 "nbformat_minor": 5
}
