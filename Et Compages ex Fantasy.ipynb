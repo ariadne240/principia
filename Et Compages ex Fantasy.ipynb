{
 "cells": [
  {
   "cell_type": "markdown",
   "id": "e1b09bf6",
   "metadata": {},
   "source": [
    "# Markdown\n",
    "## Example"
   ]
  },
  {
   "cell_type": "markdown",
   "id": "fb4ab24b",
   "metadata": {},
   "source": [
    "So, **this** is a page."
   ]
  }
 ],
 "metadata": {
  "kernelspec": {
   "display_name": "Python 3",
   "language": "python",
   "name": "python3"
  },
  "language_info": {
   "codemirror_mode": {
    "name": "ipython",
    "version": 3
   },
   "file_extension": ".py",
   "mimetype": "text/x-python",
   "name": "python",
   "nbconvert_exporter": "python",
   "pygments_lexer": "ipython3",
   "version": "3.9.6"
  }
 },
 "nbformat": 4,
 "nbformat_minor": 5
}
