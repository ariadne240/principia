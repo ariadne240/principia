{
  "nbformat": 4,
  "nbformat_minor": 0,
  "metadata": {
    "colab": {
      "name": "Et Compages ex Fantasy.ipynb",
      "provenance": [],
      "authorship_tag": "ABX9TyO4RO6cfY2xPOJl5Ewo0PdL",
      "include_colab_link": true
    },
    "kernelspec": {
      "name": "python3",
      "display_name": "Python 3"
    },
    "language_info": {
      "name": "python"
    }
  },
  "cells": [
    {
      "cell_type": "markdown",
      "metadata": {
        "id": "view-in-github",
        "colab_type": "text"
      },
      "source": [
        "<a href=\"https://colab.research.google.com/github/ariadne240/principia/blob/main/Et_Compages_ex_Fantasy.ipynb\" target=\"_parent\"><img src=\"https://colab.research.google.com/assets/colab-badge.svg\" alt=\"Open In Colab\"/></a>"
      ]
    },
    {
      "cell_type": "markdown",
      "metadata": {
        "id": "tiVm0_glPFlC"
      },
      "source": [
        "#Et Compages ex Fantasy"
      ]
    },
    {
      "cell_type": "markdown",
      "metadata": {
        "id": "fvRVkUZlPRQk"
      },
      "source": [
        "##ariadne240"
      ]
    },
    {
      "cell_type": "markdown",
      "metadata": {
        "id": "7y3l4xPxPUf6"
      },
      "source": [
        "Cell box struct"
      ]
    }
  ]
}